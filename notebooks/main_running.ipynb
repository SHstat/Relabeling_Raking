{
 "cells": [
  {
   "cell_type": "code",
   "execution_count": 1,
   "metadata": {},
   "outputs": [],
   "source": [
    "import numpy as np\n",
    "import pandas as pd\n",
    "import sys\n",
    "sys.path.append(\"..\")\n",
    "\n",
    "from python.preprocess import *  #only for the categorical variables\n",
    "from python.OREM import *\n",
    "from sklearn.model_selection import train_test_split\n",
    "from tqdm import tqdm"
   ]
  },
  {
   "cell_type": "markdown",
   "metadata": {},
   "source": [
    "# Preprocess"
   ]
  },
  {
   "cell_type": "code",
   "execution_count": 23,
   "metadata": {},
   "outputs": [
    {
     "name": "stdout",
     "output_type": "stream",
     "text": [
      "# of 0: 462\n",
      "# of 1: 20\n"
     ]
    },
    {
     "data": {
      "text/html": [
       "<div>\n",
       "<style scoped>\n",
       "    .dataframe tbody tr th:only-of-type {\n",
       "        vertical-align: middle;\n",
       "    }\n",
       "\n",
       "    .dataframe tbody tr th {\n",
       "        vertical-align: top;\n",
       "    }\n",
       "\n",
       "    .dataframe thead th {\n",
       "        text-align: right;\n",
       "    }\n",
       "</style>\n",
       "<table border=\"1\" class=\"dataframe\">\n",
       "  <thead>\n",
       "    <tr style=\"text-align: right;\">\n",
       "      <th></th>\n",
       "      <th>V1</th>\n",
       "      <th>V2</th>\n",
       "      <th>V3</th>\n",
       "      <th>V4</th>\n",
       "      <th>V5</th>\n",
       "      <th>V6</th>\n",
       "      <th>V7</th>\n",
       "      <th>V8</th>\n",
       "      <th>y</th>\n",
       "    </tr>\n",
       "  </thead>\n",
       "  <tbody>\n",
       "    <tr>\n",
       "      <th>1</th>\n",
       "      <td>0.51</td>\n",
       "      <td>0.40</td>\n",
       "      <td>0.56</td>\n",
       "      <td>0.17</td>\n",
       "      <td>0.5</td>\n",
       "      <td>0.5</td>\n",
       "      <td>0.49</td>\n",
       "      <td>0.22</td>\n",
       "      <td>0</td>\n",
       "    </tr>\n",
       "    <tr>\n",
       "      <th>2</th>\n",
       "      <td>0.40</td>\n",
       "      <td>0.39</td>\n",
       "      <td>0.60</td>\n",
       "      <td>0.15</td>\n",
       "      <td>0.5</td>\n",
       "      <td>0.0</td>\n",
       "      <td>0.58</td>\n",
       "      <td>0.30</td>\n",
       "      <td>0</td>\n",
       "    </tr>\n",
       "    <tr>\n",
       "      <th>3</th>\n",
       "      <td>0.40</td>\n",
       "      <td>0.42</td>\n",
       "      <td>0.57</td>\n",
       "      <td>0.35</td>\n",
       "      <td>0.5</td>\n",
       "      <td>0.0</td>\n",
       "      <td>0.53</td>\n",
       "      <td>0.25</td>\n",
       "      <td>0</td>\n",
       "    </tr>\n",
       "  </tbody>\n",
       "</table>\n",
       "</div>"
      ],
      "text/plain": [
       "     V1    V2    V3    V4   V5   V6    V7    V8  y\n",
       "1  0.51  0.40  0.56  0.17  0.5  0.5  0.49  0.22  0\n",
       "2  0.40  0.39  0.60  0.15  0.5  0.0  0.58  0.30  0\n",
       "3  0.40  0.42  0.57  0.35  0.5  0.0  0.53  0.25  0"
      ]
     },
     "metadata": {},
     "output_type": "display_data"
    }
   ],
   "source": [
    "type = \"[Conti]\"\n",
    "fn = \"yeast-2vs8\"\n",
    "\n",
    "if type == \"[Cate]\":\n",
    "    location = \"categorical\"\n",
    "if type == \"[Conti]\":\n",
    "    location = \"continuous\"\n",
    "\n",
    "data = pd.read_csv(\"../data/\"+type+\" \"+fn+\".csv\", index_col=0)\n",
    "data = check_class(data)\n",
    "# You can see the printed statements have the same results with belows\n",
    "#data.iloc[:, -1].value_counts()\n",
    "display(data.head(3))"
   ]
  },
  {
   "cell_type": "code",
   "execution_count": 24,
   "metadata": {},
   "outputs": [
    {
     "name": "stdout",
     "output_type": "stream",
     "text": [
      "There is at least one column which has different length of unique values.\n"
     ]
    },
    {
     "data": {
      "text/html": [
       "<div>\n",
       "<style scoped>\n",
       "    .dataframe tbody tr th:only-of-type {\n",
       "        vertical-align: middle;\n",
       "    }\n",
       "\n",
       "    .dataframe tbody tr th {\n",
       "        vertical-align: top;\n",
       "    }\n",
       "\n",
       "    .dataframe thead th {\n",
       "        text-align: right;\n",
       "    }\n",
       "</style>\n",
       "<table border=\"1\" class=\"dataframe\">\n",
       "  <thead>\n",
       "    <tr style=\"text-align: right;\">\n",
       "      <th></th>\n",
       "      <th>V1</th>\n",
       "      <th>V2</th>\n",
       "      <th>V3</th>\n",
       "      <th>V4</th>\n",
       "      <th>V5</th>\n",
       "      <th>V6</th>\n",
       "      <th>V7</th>\n",
       "      <th>V8</th>\n",
       "      <th>Label</th>\n",
       "    </tr>\n",
       "  </thead>\n",
       "  <tbody>\n",
       "    <tr>\n",
       "      <th>1</th>\n",
       "      <td>0.51</td>\n",
       "      <td>0.40</td>\n",
       "      <td>0.56</td>\n",
       "      <td>0.17</td>\n",
       "      <td>0.5</td>\n",
       "      <td>0.5</td>\n",
       "      <td>0.49</td>\n",
       "      <td>0.22</td>\n",
       "      <td>0</td>\n",
       "    </tr>\n",
       "    <tr>\n",
       "      <th>2</th>\n",
       "      <td>0.40</td>\n",
       "      <td>0.39</td>\n",
       "      <td>0.60</td>\n",
       "      <td>0.15</td>\n",
       "      <td>0.5</td>\n",
       "      <td>0.0</td>\n",
       "      <td>0.58</td>\n",
       "      <td>0.30</td>\n",
       "      <td>0</td>\n",
       "    </tr>\n",
       "    <tr>\n",
       "      <th>3</th>\n",
       "      <td>0.40</td>\n",
       "      <td>0.42</td>\n",
       "      <td>0.57</td>\n",
       "      <td>0.35</td>\n",
       "      <td>0.5</td>\n",
       "      <td>0.0</td>\n",
       "      <td>0.53</td>\n",
       "      <td>0.25</td>\n",
       "      <td>0</td>\n",
       "    </tr>\n",
       "  </tbody>\n",
       "</table>\n",
       "</div>"
      ],
      "text/plain": [
       "     V1    V2    V3    V4   V5   V6    V7    V8  Label\n",
       "1  0.51  0.40  0.56  0.17  0.5  0.5  0.49  0.22      0\n",
       "2  0.40  0.39  0.60  0.15  0.5  0.0  0.58  0.30      0\n",
       "3  0.40  0.42  0.57  0.35  0.5  0.0  0.53  0.25      0"
      ]
     },
     "execution_count": 24,
     "metadata": {},
     "output_type": "execute_result"
    }
   ],
   "source": [
    "# Try this only for the categorical datasets\n",
    "# 해당 과정은, 범주형 변수 n개를 0부터 n-1까지의 값들로 바꿔준다.\n",
    "# 따라서, 해당 과정을 거쳐도 컬럼 갯수는 늘어나지 않는다.\n",
    "df = check_uniqueness(data.iloc[:, :-1])\n",
    "df['Label'] = data.iloc[:, -1]\n",
    "df.head(3)"
   ]
  },
  {
   "cell_type": "markdown",
   "metadata": {},
   "source": [
    "# OREM"
   ]
  },
  {
   "cell_type": "markdown",
   "metadata": {},
   "source": [
    "Before running the codes, please check if the code for the saving works or not."
   ]
  },
  {
   "cell_type": "code",
   "execution_count": 25,
   "metadata": {},
   "outputs": [
    {
     "name": "stderr",
     "output_type": "stream",
     "text": [
      "100%|██████████| 8/8 [00:00<00:00, 21.53it/s]\n"
     ]
    }
   ],
   "source": [
    "minclass = 1\n",
    "df_maj = df[df.iloc[:, -1].values != 1]\n",
    "df_min = df[df.iloc[:, -1].values == 1]\n",
    "ratio = 0.5\n",
    "\n",
    "failed_trial = []\n",
    "#for trial in tqdm(range(1, 101)):\n",
    "for trial in tqdm([2, 5, 23, 24, 28, 44, 66, 72]):\n",
    "    maj_train, maj_test = train_test_split(df_maj, test_size=ratio)\n",
    "    min_train, min_test = train_test_split(df_min, test_size=ratio)\n",
    "\n",
    "    train = pd.concat([maj_train, min_train])\n",
    "    test = pd.concat([maj_test, min_test])\n",
    "\n",
    "    label = train.iloc[:, -1]\n",
    "    vc = label.value_counts()\n",
    "    n_maj = vc[0]\n",
    "    n_min = vc[1]\n",
    "\n",
    "    train = train.iloc[:, :-1].copy()\n",
    "    try:\n",
    "        newDf, newLabel = OREM(train, list(label), n_maj - n_min)\n",
    "        newDf['Class'] = newLabel\n",
    "        #newDf.Class.value_counts()     #check if you want to see if a balanced dataset is generated\n",
    "        newDf.to_csv(\"../data/\"+location+\"/\"+fn+\"_train\"+str(trial)+\".csv\", index=False)\n",
    "        test.to_csv(\"../data/\"+location+\"/\"+fn+\"_test\"+str(trial)+\".csv\", index=False)\n",
    "    except:\n",
    "        failed_trial.append(trial)\n",
    "        pass    "
   ]
  },
  {
   "cell_type": "code",
   "execution_count": 26,
   "metadata": {},
   "outputs": [
    {
     "data": {
      "text/plain": [
       "[]"
      ]
     },
     "execution_count": 26,
     "metadata": {},
     "output_type": "execute_result"
    }
   ],
   "source": [
    "failed_trial"
   ]
  },
  {
   "cell_type": "code",
   "execution_count": 19,
   "metadata": {},
   "outputs": [
    {
     "name": "stderr",
     "output_type": "stream",
     "text": [
      "  0%|          | 0/3 [00:00<?, ?it/s]/Users/hwane/Documents/GitHub/RnR/notebooks/../python/OREM.py:96: RuntimeWarning: divide by zero encountered in scalar divide\n",
      "  N = int(N/len(AS))\n",
      "100%|██████████| 3/3 [00:00<00:00, 18.36it/s]\n"
     ]
    }
   ],
   "source": [
    "if failed_trial: \n",
    "    failed_trial2 = []\n",
    "    for trial in tqdm(failed_trial):\n",
    "        maj_train, maj_test = train_test_split(df_maj, test_size=ratio)\n",
    "        min_train, min_test = train_test_split(df_min, test_size=ratio)\n",
    "\n",
    "        train = pd.concat([maj_train, min_train])\n",
    "        test = pd.concat([maj_test, min_test])\n",
    "\n",
    "        label = train.iloc[:, -1]\n",
    "        vc = label.value_counts()\n",
    "        n_maj = vc[0]\n",
    "        n_min = vc[1]\n",
    "\n",
    "        train = train.iloc[:, :-1].copy()\n",
    "        try:\n",
    "            newDf, newLabel = OREM(train, list(label), n_maj - n_min)\n",
    "            newDf['Class'] = newLabel\n",
    "            #newDf.Class.value_counts()     #check if you want to see if a balanced dataset is generated\n",
    "            newDf.to_csv(\"../data/\"+location+\"/\"+fn+\"_train\"+str(trial)+\".csv\", index=False)\n",
    "            test.to_csv(\"../data/\"+location+\"/\"+fn+\"_test\"+str(trial)+\".csv\", index=False)\n",
    "        except:\n",
    "            failed_trial2.append(trial)\n",
    "            pass    "
   ]
  }
 ],
 "metadata": {
  "kernelspec": {
   "display_name": "rnr_env",
   "language": "python",
   "name": "rnr_env"
  },
  "language_info": {
   "codemirror_mode": {
    "name": "ipython",
    "version": 3
   },
   "file_extension": ".py",
   "mimetype": "text/x-python",
   "name": "python",
   "nbconvert_exporter": "python",
   "pygments_lexer": "ipython3",
   "version": "3.11.4"
  },
  "orig_nbformat": 4
 },
 "nbformat": 4,
 "nbformat_minor": 2
}
