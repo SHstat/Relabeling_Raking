{
 "cells": [
  {
   "cell_type": "markdown",
   "metadata": {},
   "source": [
    "해당 코드들의 결과물은 실제로 필요한 Gmean, F1, AUC 등을 구하기 이전에 [prediction, true] pair들로 이루어져 있습니다."
   ]
  },
  {
   "cell_type": "code",
   "execution_count": 1,
   "metadata": {},
   "outputs": [],
   "source": [
    "import numpy as np\n",
    "import sys\n",
    "sys.path.append(\"..\")\n",
    "\n",
    "from python.evaluation import *\n",
    "from sklearn import svm\n",
    "from sklearn.ensemble import RandomForestClassifier\n",
    "from sklearn.naive_bayes import GaussianNB"
   ]
  },
  {
   "cell_type": "code",
   "execution_count": 8,
   "metadata": {},
   "outputs": [
    {
     "data": {
      "text/plain": [
       "[]"
      ]
     },
     "execution_count": 8,
     "metadata": {},
     "output_type": "execute_result"
    }
   ],
   "source": [
    "type = ''\n",
    "fn = 'oil'\n",
    "\n",
    "failedTrial = []\n",
    "for trial in range(1, 101):\n",
    "    try:\n",
    "        train, test = loading_train_test(type, fn, trial=trial, loc=\"../data/data_SH/\")\n",
    "    except:\n",
    "        failedTrial.append(trial)\n",
    "failedTrial"
   ]
  },
  {
   "cell_type": "code",
   "execution_count": 9,
   "metadata": {},
   "outputs": [],
   "source": [
    "res_SVM = []\n",
    "res_RF = []\n",
    "res_NB = []\n",
    "for trial in range(1, 101):\n",
    "    train, test = loading_train_test(type, fn, trial=trial, loc=\"../data/data_SH/\")\n",
    "    Y_train = train.iloc[:,-1].values\n",
    "    X_train = np.array(train.iloc[:,:-1])\n",
    "\n",
    "    Y_test = test.iloc[:,-1].values\n",
    "    X_test = np.array(test.iloc[:,:-1])\n",
    "\n",
    "    #SVM\n",
    "    clf = svm.SVC()\n",
    "    pred = clf.fit(X_train, Y_train).predict(X_test)\n",
    "    res_SVM.append([pred, Y_test])\n",
    "\n",
    "    #RF\n",
    "    clf = RandomForestClassifier(max_depth=2, random_state=0)    \n",
    "    pred = clf.fit(X_train, Y_train).predict(X_test)\n",
    "    res_RF.append([pred, Y_test])\n",
    "\n",
    "    #NB\n",
    "    clf = GaussianNB()\n",
    "    pred = clf.fit(X_train, Y_train).predict(X_test)\n",
    "    res_NB.append([pred, Y_test])\n",
    "    \n",
    "res_df_SVM = pd.DataFrame(res_SVM, columns=['pred', 'true'])\n",
    "res_df_RF = pd.DataFrame(res_RF, columns=['pred', 'true'])\n",
    "res_df_NB = pd.DataFrame(res_NB, columns=['pred', 'true'])"
   ]
  },
  {
   "cell_type": "code",
   "execution_count": 14,
   "metadata": {},
   "outputs": [
    {
     "name": "stdout",
     "output_type": "stream",
     "text": [
      "../data/continuous/oil_SVM_results.pickle\n"
     ]
    }
   ],
   "source": [
    "res_df_SVM.to_pickle(\"../data/continuous/\"+type+\"/\"+fn+\"_SVM_results.pickle\")\n",
    "res_df_RF.to_pickle(\"../data/continuous/\"+type+\"/\"+fn+\"_RF_results.pickle\")\n",
    "res_df_NB.to_pickle(\"../data/continuous/\"+type+\"/\"+fn+\"_NB_results.pickle\")\n",
    "\n",
    "print(\"../data/continuous\"+type+\"/\"+fn+\"_SVM_results.pickle\")"
   ]
  }
 ],
 "metadata": {
  "kernelspec": {
   "display_name": "rnr_env",
   "language": "python",
   "name": "rnr_env"
  },
  "language_info": {
   "codemirror_mode": {
    "name": "ipython",
    "version": 3
   },
   "file_extension": ".py",
   "mimetype": "text/x-python",
   "name": "python",
   "nbconvert_exporter": "python",
   "pygments_lexer": "ipython3",
   "version": "3.11.4"
  },
  "orig_nbformat": 4
 },
 "nbformat": 4,
 "nbformat_minor": 2
}
